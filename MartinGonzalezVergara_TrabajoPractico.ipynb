{
  "cells": [
    {
      "cell_type": "markdown",
      "metadata": {
        "id": "hVbXYX-RfPWh"
      },
      "source": [
        "# Algoritmos de optimización - Trabajo Práctico<br>\n",
        "Nombre y Apellidos: Martin Gonzalez Vergara  <br>\n",
        "Url: https://github.com/.../03MAIR---Algoritmos-de-Optimizacion---/tree/master/TrabajoPractico<br>\n",
        "Google Colab: https://colab.research.google.com/drive/xxxxxxxxxxxxxxxx <br>\n",
        "Problema: Organizar los horarios de partidos de La Liga\n",
        "\n",
        "\n",
        "\n",
        "Descripción del problema:\n",
        "\n",
        "Desde la La Liga de fútbol profesional se pretende organizar los horarios de los partidos de\n",
        "liga de cada jornada. Se conocen algunos datos que nos deben llevar a diseñar un\n",
        "algoritmo que realice la asignación de los partidos a los horarios de forma que maximice la\n",
        "audiencia.\n",
        "• Los horarios disponibles se conocen a priori y son los siguientes:\n",
        "| Día     | Horario     |\n",
        "|---------|-------------|\n",
        "| Viernes | 20          |       \n",
        "| Sábado  | 12,16,18,20 |           \n",
        "| Domingo | 12,16,18,20 |            \n",
        "| Lunes   | 20          |  \n",
        "\n",
        "\n",
        "\n",
        "\n",
        "En primer lugar se clasifican los equipos en tres categorías según el numero de\n",
        "seguidores( que tiene relación directa con la audiencia). Hay 3 equipos en la\n",
        "categoría A, 11 equipos de categoría B y 6 equipos de categoría C.\n",
        "• Se conoce estadísticamente la audiencia que genera cada partido según los equipos\n",
        "que se enfrentan y en horario de sábado a las 20h (el mejor en todos los casos)\n",
        "|                   | Categoría A | Categoría B   | Categoría C   |\n",
        "|-------------------|-------------|---------------|---------------|\n",
        "| Categoría A       | 2 millones  | 1,3 millones  | 1 millones    |\n",
        "| Categoría B       |             | 0,9 millones  | 0,75 millones |\n",
        "| Categoría C       |             |               | 0,47 millones |\n",
        "\n",
        "\n",
        "Si el horario del partido no se realiza a las 20 horas del sábado se sabe que se reduce\n",
        "según los coeficientes de la siguiente tabla\n",
        "• Debemos asignar obligatoriamente siempre un partido el viernes y un partido el lunes\n",
        "|      | Viernes |  Sábado   | Domingo   | Lunes   |\n",
        "|------|---------|-----------|-----------|---------|\n",
        "| 12h  |         | 0,55      | 0,45      |         |\n",
        "| 16h  |         | 0,7       | 0,75      |         |\n",
        "| 18h  |         | 0,8       | 0,85      |         |\n",
        "| 20h  |0,4      | 1         | 1         |0,4      |\n",
        "\n",
        "Es posible la coincidencia de horarios pero en este\n",
        "caso la audiencia de cada partido se verá afectada y\n",
        "se estima que se reduce en porcentaje según la\n",
        "siguiente tabla dependiendo del número de\n",
        "coincidencias\n",
        "\n",
        "| Coincidencias| -%  |\n",
        "|--------------|-----|\n",
        "| 0            |  0% |\n",
        "| 1            | 25% |\n",
        "| 2            | 45% |\n",
        "| 3            | 60% |\n",
        "| 4            | 70% |\n",
        "| 5            | 75% |\n",
        "| 6            | 78% |\n",
        "| 7            | 80% |\n",
        "| 8            | 80% |                                        "
      ]
    },
    {
      "cell_type": "markdown",
      "metadata": {
        "id": "Sbo9IqQtpaHZ"
      },
      "source": [
        "#Modelo\n",
        "- ¿Como represento el espacio de soluciones?\n",
        "\n",
        "Trabajaré con DataFrames de la librería Pandas. Cada solución candidata se representará como una lista, la cual se implementará en el DataFrame para que el resultado de cada propuesta pueda ser procesado con la función objetivo designada para la realización del trabajo\n",
        "\n",
        "- ¿Cual es la función objetivo?\n",
        "\n",
        "La función objetivo busca maximizar la audiencia total de todos los partidos programados. Se calculará sumando el producto de tres factores: el factor de la categoría de los equipos, el factor del horario y el factor de coincidencia de horarios.\n",
        "\n",
        "- ¿Como implemento las restricciones?\n",
        "\n",
        "Partidos obligatorios el viernes y el lunes a las 20:00: Aseguraremos que en cada propuesta de asignación de horarios haya al menos un partido programado para el viernes a las 20:00 y al menos uno para el lunes a las 20:00.\n",
        "Coherencia en la asignación de horarios: Durante la generación y manipulación de las propuestas, garantizaremos que los horarios asignados cumplan con las restricciones establecidas, evitando la asignación de más de un partido en un mismo horario y día"
      ]
    },
    {
      "cell_type": "markdown",
      "metadata": {
        "id": "67p_vszBposu"
      },
      "source": [
        "Condiciones iniciales dadas por el problema, librerias"
      ]
    },
    {
      "cell_type": "code",
      "execution_count": 38,
      "metadata": {
        "id": "AiskKkzZfy4e"
      },
      "outputs": [],
      "source": [
        "#Respuesta\n",
        "import pandas as pd\n",
        "import random\n",
        "random.seed(42)\n",
        "\n",
        "coeficientes_categoria = {'AA': 2, 'BA': 1.3, 'BB': 0.9, 'BC': 0.75, 'CC': 0.47}  # Coeficientes de la tabla para las horas y días de partido\n",
        "calendario_horarios = {'V20': 0.4, 'S12': 0.55, 'S16': 0.7, 'S18': 0.8, 'S20': 1, 'D12': 0.45, 'D16': 0.75, 'D18': 0.85, 'D20': 1, 'L20': 0.4}  # Calendario de los partidos\n",
        "factor_coincidencia = {0: 1, 1: 0.75, 2: 0.55, 3: 0.4, 4: 0.3, 5: 0.25, 6: 0.22, 7: 0.2, 8: 0.2, 9: 0.2}  # Factor de tabla dependiendo del número de coincidencias\n"
      ]
    },
    {
      "cell_type": "markdown",
      "metadata": {
        "id": "HZz52wOppp-U"
      },
      "source": [
        "#Análisis\n",
        "- ¿Que complejidad tiene el problema?. Orden de complejidad y Contabilizar el espacio de soluciones\n",
        "\n",
        "Si no tenemos en cuenta las restricciones y consideramos todas las combinaciones posibles de asignaciones de horarios para los partidos, estaríamos ante un problema de variación con repetición, con una complejidad del orden de \\( m^n \\), donde \\( m \\) es el número de horarios disponibles y \\( n \\) es el número de partidos.\n",
        "\n",
        "Sin embargo, al tener en cuenta las restricciones de que debe haber al menos un partido el viernes y otro el lunes, el espacio de soluciones se reduce significativamente. Ahora estamos ante un problema donde primero seleccionamos los partidos para el viernes y el lunes, y luego asignamos los restantes de forma arbitraria, cumpliendo las restricciones restantes. Esto resulta en un espacio de soluciones de 10×9×10^8=9×10^9\n",
        "\n",
        "Implementar este problema mediante fuerza bruta sería factible, pero el número de combinaciones a evaluar es considerable, por lo que puede resultar impracticable en términos de tiempo y recursos computacionales.\n"
      ]
    },
    {
      "cell_type": "code",
      "execution_count": 39,
      "metadata": {
        "id": "CZ-5BmpspttV"
      },
      "outputs": [
        {
          "data": {
            "text/html": [
              "<div>\n",
              "<style scoped>\n",
              "    .dataframe tbody tr th:only-of-type {\n",
              "        vertical-align: middle;\n",
              "    }\n",
              "\n",
              "    .dataframe tbody tr th {\n",
              "        vertical-align: top;\n",
              "    }\n",
              "\n",
              "    .dataframe thead th {\n",
              "        text-align: right;\n",
              "    }\n",
              "</style>\n",
              "<table border=\"1\" class=\"dataframe\">\n",
              "  <thead>\n",
              "    <tr style=\"text-align: right;\">\n",
              "      <th></th>\n",
              "      <th>Partido</th>\n",
              "      <th>Categoría</th>\n",
              "      <th>Asistencia</th>\n",
              "    </tr>\n",
              "  </thead>\n",
              "  <tbody>\n",
              "    <tr>\n",
              "      <th>0</th>\n",
              "      <td>Celta-RMadrid</td>\n",
              "      <td>BA</td>\n",
              "      <td>1.30</td>\n",
              "    </tr>\n",
              "    <tr>\n",
              "      <th>1</th>\n",
              "      <td>Valencia-RSociedad</td>\n",
              "      <td>BA</td>\n",
              "      <td>1.30</td>\n",
              "    </tr>\n",
              "    <tr>\n",
              "      <th>2</th>\n",
              "      <td>Mallorca-Eibar</td>\n",
              "      <td>CC</td>\n",
              "      <td>0.47</td>\n",
              "    </tr>\n",
              "    <tr>\n",
              "      <th>3</th>\n",
              "      <td>Athletic-Barcelona</td>\n",
              "      <td>BA</td>\n",
              "      <td>1.30</td>\n",
              "    </tr>\n",
              "    <tr>\n",
              "      <th>4</th>\n",
              "      <td>Leganés-Osasuna</td>\n",
              "      <td>CC</td>\n",
              "      <td>0.47</td>\n",
              "    </tr>\n",
              "    <tr>\n",
              "      <th>5</th>\n",
              "      <td>Villareal-Granada</td>\n",
              "      <td>BC</td>\n",
              "      <td>0.75</td>\n",
              "    </tr>\n",
              "    <tr>\n",
              "      <th>6</th>\n",
              "      <td>Alaves-Levante</td>\n",
              "      <td>BB</td>\n",
              "      <td>0.90</td>\n",
              "    </tr>\n",
              "    <tr>\n",
              "      <th>7</th>\n",
              "      <td>Espanyol-Sevilla</td>\n",
              "      <td>BB</td>\n",
              "      <td>0.90</td>\n",
              "    </tr>\n",
              "    <tr>\n",
              "      <th>8</th>\n",
              "      <td>Betis-Valladolid</td>\n",
              "      <td>BC</td>\n",
              "      <td>0.75</td>\n",
              "    </tr>\n",
              "    <tr>\n",
              "      <th>9</th>\n",
              "      <td>Atlético-Getafe</td>\n",
              "      <td>BB</td>\n",
              "      <td>0.90</td>\n",
              "    </tr>\n",
              "  </tbody>\n",
              "</table>\n",
              "</div>"
            ],
            "text/plain": [
              "              Partido Categoría  Asistencia\n",
              "0       Celta-RMadrid        BA        1.30\n",
              "1  Valencia-RSociedad        BA        1.30\n",
              "2      Mallorca-Eibar        CC        0.47\n",
              "3  Athletic-Barcelona        BA        1.30\n",
              "4     Leganés-Osasuna        CC        0.47\n",
              "5   Villareal-Granada        BC        0.75\n",
              "6      Alaves-Levante        BB        0.90\n",
              "7    Espanyol-Sevilla        BB        0.90\n",
              "8    Betis-Valladolid        BC        0.75\n",
              "9     Atlético-Getafe        BB        0.90"
            ]
          },
          "metadata": {},
          "output_type": "display_data"
        }
      ],
      "source": [
        "# Primero definiremos los partidos y sus categorias, para posteriormente, crear un dataframe con dos columnas, partido y categorias\n",
        "partidos = [['Celta-RMadrid', 'BA'], ['Valencia-RSociedad', 'BA'],\n",
        "            ['Mallorca-Eibar', 'CC'], ['Athletic-Barcelona', 'BA'],\n",
        "            ['Leganés-Osasuna', 'CC'], ['Villareal-Granada', 'BC'],\n",
        "            ['Alaves-Levante', 'BB'], ['Espanyol-Sevilla', 'BB'],\n",
        "            ['Betis-Valladolid', 'BC'], ['Atlético-Getafe','BB']]\n",
        "df_partidos = pd.DataFrame(partidos, columns=['Partido', 'Categoría'])\n",
        "\n",
        "#Ahora calcularemos la asistencia que se estima para cada partido segun la categoría designada y lo mostraremos por pantalla\n",
        "asistencia = []\n",
        "for categoria in df_partidos['Categoría']:\n",
        "    asistencia.append(coeficientes_categoria[categoria])\n",
        "\n",
        "df_partidos['Asistencia'] = asistencia\n",
        "display(df_partidos)\n"
      ]
    },
    {
      "cell_type": "markdown",
      "metadata": {
        "id": "ixEJUwH_pv7M"
      },
      "source": [
        "#Diseño\n",
        "- ¿Que técnica utilizo? ¿Por qué?\n",
        "\n",
        "Usaremos un algoritmo genético para ello debido a que creo que se la opción mas adecuada para resolver dicho problema"
      ]
    },
    {
      "cell_type": "code",
      "execution_count": 40,
      "metadata": {
        "id": "ZdKPjB9gp2BA"
      },
      "outputs": [
        {
          "data": {
            "text/plain": [
              "[['V20', 'L20', 'D12', 'S20', 'S20', 'S18', 'S16', 'S16', 'D18', 'S12'],\n",
              " ['S20', 'S20', 'S12', 'S20', 'D18', 'L20', 'V20', 'D12', 'S12', 'S18'],\n",
              " ['D12', 'S18', 'S20', 'D16', 'L20', 'S16', 'D18', 'S16', 'D16', 'V20'],\n",
              " ['S12', 'D20', 'S16', 'V20', 'L20', 'D12', 'D16', 'S20', 'S16', 'S12'],\n",
              " ['S16', 'S20', 'S16', 'V20', 'L20', 'D20', 'D16', 'S18', 'D16', 'D16']]"
            ]
          },
          "execution_count": 40,
          "metadata": {},
          "output_type": "execute_result"
        }
      ],
      "source": [
        "#Respuesta\n",
        "def generar_propuestas(num: int):\n",
        "\n",
        "    propuestas = []\n",
        "    for _ in range(num):\n",
        "        horarios = []\n",
        "        # Se eligen aleatoriamente los horarios disponibles para los partidos\n",
        "        horarios_disponibles = ['S12', 'S16', 'S18', 'S20', 'D12', 'D16', 'D18', 'D20']\n",
        "        for _ in range(10):\n",
        "            horarios.append(random.choice(horarios_disponibles))\n",
        "\n",
        "        # Se eligen aleatoriamente las posiciones de los horarios de viernes y lunes\n",
        "        pos_v = random.randint(0, 9)\n",
        "        pos_l = random.randint(0, 9)\n",
        "\n",
        "        # Si las posiciones son iguales, se vuelven a elegir aleatoriamente hasta que sean diferentes\n",
        "        while pos_v == pos_l:\n",
        "            pos_l = random.randint(0, 9)\n",
        "\n",
        "        # Asignación de los horarios de viernes y lunes\n",
        "        horarios[pos_v] = 'V20'\n",
        "        horarios[pos_l] = 'L20'\n",
        "\n",
        "        propuestas.append(horarios)\n",
        "\n",
        "    return propuestas\n",
        "generar_propuestas(5)"
      ]
    },
    {
      "cell_type": "code",
      "execution_count": 53,
      "metadata": {},
      "outputs": [
        {
          "name": "stdout",
          "output_type": "stream",
          "text": [
            "Resultado: 6.2425\n"
          ]
        }
      ],
      "source": [
        "\n",
        "def evaluation(jornada_propuesta: list):\n",
        "    ## Creamos una copia del DataFrame para no modificar el original y le asignamos la jornada propuesta\n",
        "    df_copia = df_partidos.copy()\n",
        "    df_copia['Horario'] = jornada_propuesta\n",
        "\n",
        "   # Calculamos el factor de cada horario según el calendario de horarios\n",
        "    df_copia['Factor horario'] = [calendario_horarios[horario] for horario in jornada_propuesta]\n",
        "\n",
        "    # ¿Cuántos partidos tienen el mismo hoaraio?\n",
        "    horario_count = {horario: 0 for horario in calendario_horarios}\n",
        "    for horario in jornada_propuesta:\n",
        "        horario_count[horario] += 1\n",
        "\n",
        "    # Asignamos el número de coincidencias de cada partido\n",
        "    df_copia['Coincidencia'] = [horario_count[horario] - 1 for horario in jornada_propuesta]\n",
        "\n",
        "    # Calculamos el factor de coincidencia para cada partido\n",
        "    df_copia['Factor coincidencia'] = [factor_coincidencia[coincid] for coincid in df_copia['Coincidencia']]\n",
        "\n",
        "    # Calculamos la audiencia de cada uno de los partidos \n",
        "    df_copia['Audiencia'] = [df_copia['Asistencia'][i] * df_copia['Factor horario'][i] * df_copia['Factor coincidencia'][i] for i in range(len(df_copia))]\n",
        "\n",
        "    # Hacemos el sumatorio de los resultados parciales para obtener la solución\n",
        "    resultado_propuesto = sum(df_copia['Audiencia'])\n",
        "\n",
        "    # Devolvemos el resultado de la función objetivo y el Df\n",
        "    return resultado_propuesto, df_copia\n",
        "\n",
        "resultado_audiencia = evaluation(['V20', 'S16', 'S18', 'S20', 'D12', 'D16', 'D18', 'D20', 'D20', 'L20'])[0]\n",
        "print(\"Resultado:\", resultado_audiencia)\n",
        "\n",
        "\n"
      ]
    },
    {
      "cell_type": "code",
      "execution_count": 105,
      "metadata": {},
      "outputs": [
        {
          "data": {
            "text/plain": [
              "[(0, ['S16', 'S20', 'D18', 'D20', 'D18', 'D18', 'D20', 'V20', 'L20', 'S12']),\n",
              " (1, ['S12', 'V20', 'D16', 'D18', 'S12', 'S12', 'D20', 'L20', 'S20', 'S18']),\n",
              " (2, ['D18', 'L20', 'D20', 'S18', 'S18', 'V20', 'D16', 'D16', 'S16', 'D12']),\n",
              " (3, ['S16', 'D12', 'D16', 'L20', 'D12', 'S20', 'S18', 'D16', 'D20', 'V20']),\n",
              " (4, ['D20', 'V20', 'S20', 'S12', 'D16', 'L20', 'S18', 'D12', 'D12', 'D16'])]"
            ]
          },
          "execution_count": 105,
          "metadata": {},
          "output_type": "execute_result"
        }
      ],
      "source": [
        "def seleccion_padres(resultados: list):\n",
        "    # Seleccionamos todos los resultados sin modificar\n",
        "    return resultados\n",
        "\n",
        "test = []\n",
        "i = 0\n",
        "for x in generar_propuestas(5):\n",
        "    test.append((i, x))\n",
        "    i += 1\n",
        "\n",
        "# Llamamos a la función de selección de padres y almacenamos el resultado en una variable\n",
        "resultados_seleccionados = seleccion_padres(test)\n",
        "\n",
        "# Imprimimos los resultados seleccionados\n",
        "seleccion_padres(test)\n",
        "\n",
        "\n"
      ]
    },
    {
      "cell_type": "code",
      "execution_count": 113,
      "metadata": {},
      "outputs": [
        {
          "name": "stdout",
          "output_type": "stream",
          "text": [
            "['S16', 'S20', 'D18', 'D20', 'D18', 'D18', 'D20', 'V20', 'L20', 'S12']\n",
            "['S16', 'S20', 'D18', 'D20', 'D18', 'D18', 'D20', 'V20', 'L20', 'S12']\n",
            "['S16', 'S20', 'D18', 'D20', 'D18', 'D18', 'D20', 'V20', 'L20', 'S12']\n",
            "['S16', 'S20', 'D18', 'D20', 'D18', 'D18', 'D20', 'V20', 'L20', 'S12']\n",
            "['S16', 'S20', 'D18', 'D20', 'D18', 'D18', 'D20', 'V20', 'L20', 'S12']\n"
          ]
        }
      ],
      "source": [
        "def combination(resultados_top: list):\n",
        "    nuevos_individuos = []\n",
        "    padre = resultados_top[0][1]  # Tomamos el primer padre como referencia\n",
        "    index_viernes = padre.index('V20')\n",
        "    index_lunes = padre.index('L20')\n",
        "    \n",
        "    for prop in resultados_top:\n",
        "        madre = prop[1]\n",
        "        \n",
        "        if index_viernes < index_lunes:\n",
        "            nuevo_individuo = padre[:index_viernes+1] + madre[index_viernes+1:index_lunes] + padre[index_lunes:]\n",
        "        else:\n",
        "            nuevo_individuo = padre[:index_lunes+1] + madre[index_lunes+1:index_viernes] + padre[index_viernes:]\n",
        "        \n",
        "        nuevos_individuos.append(nuevo_individuo)\n",
        "    \n",
        "    return nuevos_individuos\n",
        "\n",
        "# Llamamos a la función combination con test como argumento\n",
        "nuevos_individuos = combination(test)\n",
        "\n",
        "# Mostramos los nuevos individuos creados\n",
        "for individuo in nuevos_individuos:\n",
        "    print(individuo)\n",
        "\n"
      ]
    },
    {
      "cell_type": "code",
      "execution_count": 164,
      "metadata": {},
      "outputs": [
        {
          "name": "stdout",
          "output_type": "stream",
          "text": [
            "['S16', 'S20', 'D18', 'D20', 'D18', 'D18', 'D20', 'V20', 'L20', 'S12']\n",
            "['S16', 'S20', 'D18', 'D20', 'D18', 'D18', 'D20', 'V20', 'L20', 'S12']\n",
            "['D16', 'D18', 'D20', 'D12', 'D20', 'D12', 'S12', 'V20', 'L20', 'D16']\n",
            "['S20', 'S16', 'S20', 'D20', 'S18', 'V20', 'D16', 'D20', 'L20', 'S16']\n",
            "['S12', 'S18', 'D16', 'D12', 'D16', 'S12', 'D20', 'V20', 'S12', 'L20']\n"
          ]
        }
      ],
      "source": [
        "\n",
        "def mutation(nuevos_individuos: list):\n",
        "    '''\n",
        "    Función mutación\n",
        "    \n",
        "    '''\n",
        "    sin_mutar = nuevos_individuos[:len(nuevos_individuos)//2]\n",
        "    mutados1 = nuevos_individuos[len(nuevos_individuos)//2:len(nuevos_individuos)//2 + len(nuevos_individuos)//4]\n",
        "    schedule_options = ['S12', 'S16', 'S18', 'S20', 'D12', 'D16', 'D18', 'D20']\n",
        "    \n",
        "    for mutado in mutados1:\n",
        "        for i, horario in enumerate(mutado):\n",
        "            if horario != 'V20' and horario != 'L20':\n",
        "                mutado[i] = random.choice(schedule_options)\n",
        "    \n",
        "    # Aportamos individuos totalmente nuevos\n",
        "    mutados2 = generar_propuestas(len(nuevos_individuos) - len(nuevos_individuos)//2 - len(nuevos_individuos)//4)\n",
        "    nuevos_individuos_mutados = sin_mutar + mutados1 + mutados2\n",
        "    \n",
        "    return nuevos_individuos_mutados\n",
        "\n",
        "resultado = mutation(combination(seleccion_padres(test)))\n",
        "for i in range(0, len(resultado), 4):\n",
        "    for individuo in resultado[i:i+4]:\n",
        "        print(individuo)\n",
        "\n",
        "\n"
      ]
    },
    {
      "cell_type": "code",
      "execution_count": 199,
      "metadata": {},
      "outputs": [
        {
          "name": "stderr",
          "output_type": "stream",
          "text": [
            "  0%|          | 1/200 [00:00<00:48,  4.11it/s]"
          ]
        },
        {
          "name": "stdout",
          "output_type": "stream",
          "text": [
            " \r"
          ]
        },
        {
          "name": "stderr",
          "output_type": "stream",
          "text": [
            "  1%|          | 2/200 [00:00<00:46,  4.25it/s]"
          ]
        },
        {
          "name": "stdout",
          "output_type": "stream",
          "text": [
            " \r"
          ]
        },
        {
          "name": "stderr",
          "output_type": "stream",
          "text": [
            "  2%|▏         | 3/200 [00:00<00:46,  4.27it/s]"
          ]
        },
        {
          "name": "stdout",
          "output_type": "stream",
          "text": [
            " \r"
          ]
        },
        {
          "name": "stderr",
          "output_type": "stream",
          "text": [
            "  2%|▎         | 5/200 [00:01<00:45,  4.26it/s]"
          ]
        },
        {
          "name": "stdout",
          "output_type": "stream",
          "text": [
            " \r"
          ]
        },
        {
          "name": "stderr",
          "output_type": "stream",
          "text": [
            "  4%|▎         | 7/200 [00:01<00:45,  4.26it/s]"
          ]
        },
        {
          "name": "stdout",
          "output_type": "stream",
          "text": [
            " \r"
          ]
        },
        {
          "name": "stderr",
          "output_type": "stream",
          "text": [
            "  4%|▍         | 8/200 [00:01<00:45,  4.25it/s]"
          ]
        },
        {
          "name": "stdout",
          "output_type": "stream",
          "text": [
            " \r"
          ]
        },
        {
          "name": "stderr",
          "output_type": "stream",
          "text": [
            "  5%|▌         | 10/200 [00:02<00:44,  4.28it/s]"
          ]
        },
        {
          "name": "stdout",
          "output_type": "stream",
          "text": [
            " \r"
          ]
        },
        {
          "name": "stderr",
          "output_type": "stream",
          "text": [
            "  6%|▌         | 11/200 [00:02<00:44,  4.29it/s]"
          ]
        },
        {
          "name": "stdout",
          "output_type": "stream",
          "text": [
            " \r"
          ]
        },
        {
          "name": "stderr",
          "output_type": "stream",
          "text": [
            "  6%|▋         | 13/200 [00:03<00:44,  4.25it/s]"
          ]
        },
        {
          "name": "stdout",
          "output_type": "stream",
          "text": [
            " \r"
          ]
        },
        {
          "name": "stderr",
          "output_type": "stream",
          "text": [
            "  8%|▊         | 16/200 [00:03<00:42,  4.29it/s]"
          ]
        },
        {
          "name": "stdout",
          "output_type": "stream",
          "text": [
            " \r"
          ]
        },
        {
          "name": "stderr",
          "output_type": "stream",
          "text": [
            "  8%|▊         | 17/200 [00:03<00:42,  4.29it/s]"
          ]
        },
        {
          "name": "stdout",
          "output_type": "stream",
          "text": [
            " \r"
          ]
        },
        {
          "name": "stderr",
          "output_type": "stream",
          "text": [
            "  9%|▉         | 18/200 [00:04<00:43,  4.23it/s]"
          ]
        },
        {
          "name": "stdout",
          "output_type": "stream",
          "text": [
            " \r"
          ]
        },
        {
          "name": "stderr",
          "output_type": "stream",
          "text": [
            " 10%|█         | 20/200 [00:04<00:44,  4.04it/s]"
          ]
        },
        {
          "name": "stdout",
          "output_type": "stream",
          "text": [
            " \r"
          ]
        },
        {
          "name": "stderr",
          "output_type": "stream",
          "text": [
            " 10%|█         | 21/200 [00:04<00:43,  4.09it/s]"
          ]
        },
        {
          "name": "stdout",
          "output_type": "stream",
          "text": [
            " \r"
          ]
        },
        {
          "name": "stderr",
          "output_type": "stream",
          "text": [
            " 11%|█         | 22/200 [00:05<00:43,  4.14it/s]"
          ]
        },
        {
          "name": "stdout",
          "output_type": "stream",
          "text": [
            " \r"
          ]
        },
        {
          "name": "stderr",
          "output_type": "stream",
          "text": [
            " 12%|█▏        | 24/200 [00:05<00:41,  4.22it/s]"
          ]
        },
        {
          "name": "stdout",
          "output_type": "stream",
          "text": [
            " \r"
          ]
        },
        {
          "name": "stderr",
          "output_type": "stream",
          "text": [
            " 13%|█▎        | 26/200 [00:06<00:40,  4.29it/s]"
          ]
        },
        {
          "name": "stdout",
          "output_type": "stream",
          "text": [
            " \r"
          ]
        },
        {
          "name": "stderr",
          "output_type": "stream",
          "text": [
            " 14%|█▎        | 27/200 [00:06<00:40,  4.32it/s]"
          ]
        },
        {
          "name": "stdout",
          "output_type": "stream",
          "text": [
            " \r"
          ]
        },
        {
          "name": "stderr",
          "output_type": "stream",
          "text": [
            " 14%|█▍        | 29/200 [00:06<00:39,  4.33it/s]"
          ]
        },
        {
          "name": "stdout",
          "output_type": "stream",
          "text": [
            " \r"
          ]
        },
        {
          "name": "stderr",
          "output_type": "stream",
          "text": [
            " 16%|█▌        | 31/200 [00:07<00:39,  4.32it/s]"
          ]
        },
        {
          "name": "stdout",
          "output_type": "stream",
          "text": [
            " \r"
          ]
        },
        {
          "name": "stderr",
          "output_type": "stream",
          "text": [
            " 16%|█▋        | 33/200 [00:07<00:38,  4.30it/s]"
          ]
        },
        {
          "name": "stdout",
          "output_type": "stream",
          "text": [
            " \r"
          ]
        },
        {
          "name": "stderr",
          "output_type": "stream",
          "text": [
            " 18%|█▊        | 35/200 [00:08<00:38,  4.28it/s]"
          ]
        },
        {
          "name": "stdout",
          "output_type": "stream",
          "text": [
            " \r"
          ]
        },
        {
          "name": "stderr",
          "output_type": "stream",
          "text": [
            " 18%|█▊        | 37/200 [00:08<00:37,  4.30it/s]"
          ]
        },
        {
          "name": "stdout",
          "output_type": "stream",
          "text": [
            " \r"
          ]
        },
        {
          "name": "stderr",
          "output_type": "stream",
          "text": [
            " 20%|█▉        | 39/200 [00:09<00:40,  4.02it/s]"
          ]
        },
        {
          "name": "stdout",
          "output_type": "stream",
          "text": [
            " \r"
          ]
        },
        {
          "name": "stderr",
          "output_type": "stream",
          "text": [
            " 20%|██        | 40/200 [00:09<00:39,  4.08it/s]"
          ]
        },
        {
          "name": "stdout",
          "output_type": "stream",
          "text": [
            " \r"
          ]
        },
        {
          "name": "stderr",
          "output_type": "stream",
          "text": [
            " 20%|██        | 41/200 [00:09<00:38,  4.15it/s]"
          ]
        },
        {
          "name": "stdout",
          "output_type": "stream",
          "text": [
            " \r"
          ]
        },
        {
          "name": "stderr",
          "output_type": "stream",
          "text": [
            " 21%|██        | 42/200 [00:09<00:37,  4.21it/s]"
          ]
        },
        {
          "name": "stdout",
          "output_type": "stream",
          "text": [
            " \r"
          ]
        },
        {
          "name": "stderr",
          "output_type": "stream",
          "text": [
            " 22%|██▏       | 43/200 [00:10<00:36,  4.26it/s]"
          ]
        },
        {
          "name": "stdout",
          "output_type": "stream",
          "text": [
            " \r"
          ]
        },
        {
          "name": "stderr",
          "output_type": "stream",
          "text": [
            " 22%|██▏       | 44/200 [00:10<00:36,  4.24it/s]"
          ]
        },
        {
          "name": "stdout",
          "output_type": "stream",
          "text": [
            " \r"
          ]
        },
        {
          "name": "stderr",
          "output_type": "stream",
          "text": [
            " 22%|██▎       | 45/200 [00:10<00:36,  4.23it/s]"
          ]
        },
        {
          "name": "stdout",
          "output_type": "stream",
          "text": [
            " \r"
          ]
        },
        {
          "name": "stderr",
          "output_type": "stream",
          "text": [
            " 23%|██▎       | 46/200 [00:10<00:36,  4.26it/s]"
          ]
        },
        {
          "name": "stdout",
          "output_type": "stream",
          "text": [
            " \r"
          ]
        },
        {
          "name": "stderr",
          "output_type": "stream",
          "text": [
            " 24%|██▍       | 48/200 [00:11<00:35,  4.26it/s]"
          ]
        },
        {
          "name": "stdout",
          "output_type": "stream",
          "text": [
            " \r"
          ]
        },
        {
          "name": "stderr",
          "output_type": "stream",
          "text": [
            " 24%|██▍       | 49/200 [00:11<00:35,  4.28it/s]"
          ]
        },
        {
          "name": "stdout",
          "output_type": "stream",
          "text": [
            " \r"
          ]
        },
        {
          "name": "stderr",
          "output_type": "stream",
          "text": [
            " 25%|██▌       | 50/200 [00:11<00:35,  4.26it/s]"
          ]
        },
        {
          "name": "stdout",
          "output_type": "stream",
          "text": [
            " \r"
          ]
        },
        {
          "name": "stderr",
          "output_type": "stream",
          "text": [
            " 26%|██▌       | 52/200 [00:12<00:34,  4.27it/s]"
          ]
        },
        {
          "name": "stdout",
          "output_type": "stream",
          "text": [
            " \r"
          ]
        },
        {
          "name": "stderr",
          "output_type": "stream",
          "text": [
            " 27%|██▋       | 54/200 [00:12<00:34,  4.27it/s]"
          ]
        },
        {
          "name": "stdout",
          "output_type": "stream",
          "text": [
            " \r"
          ]
        },
        {
          "name": "stderr",
          "output_type": "stream",
          "text": [
            " 28%|██▊       | 56/200 [00:13<00:33,  4.30it/s]"
          ]
        },
        {
          "name": "stdout",
          "output_type": "stream",
          "text": [
            " \r"
          ]
        },
        {
          "name": "stderr",
          "output_type": "stream",
          "text": [
            " 29%|██▉       | 58/200 [00:13<00:34,  4.06it/s]"
          ]
        },
        {
          "name": "stdout",
          "output_type": "stream",
          "text": [
            " \r"
          ]
        },
        {
          "name": "stderr",
          "output_type": "stream",
          "text": [
            " 30%|███       | 60/200 [00:14<00:33,  4.18it/s]"
          ]
        },
        {
          "name": "stdout",
          "output_type": "stream",
          "text": [
            " \r"
          ]
        },
        {
          "name": "stderr",
          "output_type": "stream",
          "text": [
            " 30%|███       | 61/200 [00:14<00:32,  4.23it/s]"
          ]
        },
        {
          "name": "stdout",
          "output_type": "stream",
          "text": [
            " \r"
          ]
        },
        {
          "name": "stderr",
          "output_type": "stream",
          "text": [
            " 32%|███▏      | 63/200 [00:14<00:32,  4.23it/s]"
          ]
        },
        {
          "name": "stdout",
          "output_type": "stream",
          "text": [
            " \r"
          ]
        },
        {
          "name": "stderr",
          "output_type": "stream",
          "text": [
            " 32%|███▏      | 64/200 [00:15<00:32,  4.25it/s]"
          ]
        },
        {
          "name": "stdout",
          "output_type": "stream",
          "text": [
            " \r"
          ]
        },
        {
          "name": "stderr",
          "output_type": "stream",
          "text": [
            " 32%|███▎      | 65/200 [00:15<00:32,  4.22it/s]"
          ]
        },
        {
          "name": "stdout",
          "output_type": "stream",
          "text": [
            " \r"
          ]
        },
        {
          "name": "stderr",
          "output_type": "stream",
          "text": [
            " 34%|███▍      | 68/200 [00:16<00:31,  4.22it/s]"
          ]
        },
        {
          "name": "stdout",
          "output_type": "stream",
          "text": [
            " \r"
          ]
        },
        {
          "name": "stderr",
          "output_type": "stream",
          "text": [
            " 34%|███▍      | 69/200 [00:16<00:30,  4.25it/s]"
          ]
        },
        {
          "name": "stdout",
          "output_type": "stream",
          "text": [
            " \r"
          ]
        },
        {
          "name": "stderr",
          "output_type": "stream",
          "text": [
            " 35%|███▌      | 70/200 [00:16<00:30,  4.24it/s]"
          ]
        },
        {
          "name": "stdout",
          "output_type": "stream",
          "text": [
            " \r"
          ]
        },
        {
          "name": "stderr",
          "output_type": "stream",
          "text": [
            " 36%|███▌      | 71/200 [00:16<00:30,  4.30it/s]"
          ]
        },
        {
          "name": "stdout",
          "output_type": "stream",
          "text": [
            " \r"
          ]
        },
        {
          "name": "stderr",
          "output_type": "stream",
          "text": [
            " 36%|███▌      | 72/200 [00:16<00:30,  4.22it/s]"
          ]
        },
        {
          "name": "stdout",
          "output_type": "stream",
          "text": [
            " \r"
          ]
        },
        {
          "name": "stderr",
          "output_type": "stream",
          "text": [
            " 36%|███▋      | 73/200 [00:17<00:29,  4.26it/s]"
          ]
        },
        {
          "name": "stdout",
          "output_type": "stream",
          "text": [
            " \r"
          ]
        },
        {
          "name": "stderr",
          "output_type": "stream",
          "text": [
            " 37%|███▋      | 74/200 [00:17<00:29,  4.26it/s]"
          ]
        },
        {
          "name": "stdout",
          "output_type": "stream",
          "text": [
            " \r"
          ]
        },
        {
          "name": "stderr",
          "output_type": "stream",
          "text": [
            " 38%|███▊      | 75/200 [00:17<00:30,  4.06it/s]"
          ]
        },
        {
          "name": "stdout",
          "output_type": "stream",
          "text": [
            " \r"
          ]
        },
        {
          "name": "stderr",
          "output_type": "stream",
          "text": [
            " 38%|███▊      | 76/200 [00:17<00:29,  4.14it/s]"
          ]
        },
        {
          "name": "stdout",
          "output_type": "stream",
          "text": [
            " \r"
          ]
        },
        {
          "name": "stderr",
          "output_type": "stream",
          "text": [
            " 38%|███▊      | 77/200 [00:18<00:29,  4.20it/s]"
          ]
        },
        {
          "name": "stdout",
          "output_type": "stream",
          "text": [
            " \r"
          ]
        },
        {
          "name": "stderr",
          "output_type": "stream",
          "text": [
            " 39%|███▉      | 78/200 [00:18<00:29,  4.12it/s]"
          ]
        },
        {
          "name": "stdout",
          "output_type": "stream",
          "text": [
            " \r"
          ]
        },
        {
          "name": "stderr",
          "output_type": "stream",
          "text": [
            " 40%|███▉      | 79/200 [00:18<00:28,  4.24it/s]"
          ]
        },
        {
          "name": "stdout",
          "output_type": "stream",
          "text": [
            " \r"
          ]
        },
        {
          "name": "stderr",
          "output_type": "stream",
          "text": [
            " 40%|████      | 81/200 [00:19<00:28,  4.21it/s]"
          ]
        },
        {
          "name": "stdout",
          "output_type": "stream",
          "text": [
            " \r"
          ]
        },
        {
          "name": "stderr",
          "output_type": "stream",
          "text": [
            " 41%|████      | 82/200 [00:19<00:27,  4.25it/s]"
          ]
        },
        {
          "name": "stdout",
          "output_type": "stream",
          "text": [
            " \r"
          ]
        },
        {
          "name": "stderr",
          "output_type": "stream",
          "text": [
            " 42%|████▏     | 83/200 [00:19<00:27,  4.27it/s]"
          ]
        },
        {
          "name": "stdout",
          "output_type": "stream",
          "text": [
            " \r"
          ]
        },
        {
          "name": "stderr",
          "output_type": "stream",
          "text": [
            " 42%|████▏     | 84/200 [00:19<00:27,  4.24it/s]"
          ]
        },
        {
          "name": "stdout",
          "output_type": "stream",
          "text": [
            " \r"
          ]
        },
        {
          "name": "stderr",
          "output_type": "stream",
          "text": [
            " 42%|████▎     | 85/200 [00:20<00:26,  4.27it/s]"
          ]
        },
        {
          "name": "stdout",
          "output_type": "stream",
          "text": [
            " \r"
          ]
        },
        {
          "name": "stderr",
          "output_type": "stream",
          "text": [
            " 43%|████▎     | 86/200 [00:20<00:26,  4.27it/s]"
          ]
        },
        {
          "name": "stdout",
          "output_type": "stream",
          "text": [
            " \r"
          ]
        },
        {
          "name": "stderr",
          "output_type": "stream",
          "text": [
            " 44%|████▍     | 89/200 [00:21<00:27,  4.06it/s]"
          ]
        },
        {
          "name": "stdout",
          "output_type": "stream",
          "text": [
            " \r"
          ]
        },
        {
          "name": "stderr",
          "output_type": "stream",
          "text": [
            " 45%|████▌     | 90/200 [00:21<00:26,  4.12it/s]"
          ]
        },
        {
          "name": "stdout",
          "output_type": "stream",
          "text": [
            " \r"
          ]
        },
        {
          "name": "stderr",
          "output_type": "stream",
          "text": [
            " 46%|████▌     | 92/200 [00:21<00:25,  4.19it/s]"
          ]
        },
        {
          "name": "stdout",
          "output_type": "stream",
          "text": [
            " \r"
          ]
        },
        {
          "name": "stderr",
          "output_type": "stream",
          "text": [
            " 46%|████▋     | 93/200 [00:22<00:25,  4.19it/s]"
          ]
        },
        {
          "name": "stdout",
          "output_type": "stream",
          "text": [
            " \r"
          ]
        },
        {
          "name": "stderr",
          "output_type": "stream",
          "text": [
            " 47%|████▋     | 94/200 [00:22<00:25,  4.23it/s]"
          ]
        },
        {
          "name": "stdout",
          "output_type": "stream",
          "text": [
            " \r"
          ]
        },
        {
          "name": "stderr",
          "output_type": "stream",
          "text": [
            " 48%|████▊     | 95/200 [00:22<00:24,  4.25it/s]"
          ]
        },
        {
          "name": "stdout",
          "output_type": "stream",
          "text": [
            " \r"
          ]
        },
        {
          "name": "stderr",
          "output_type": "stream",
          "text": [
            " 48%|████▊     | 97/200 [00:22<00:24,  4.29it/s]"
          ]
        },
        {
          "name": "stdout",
          "output_type": "stream",
          "text": [
            " \r"
          ]
        },
        {
          "name": "stderr",
          "output_type": "stream",
          "text": [
            " 49%|████▉     | 98/200 [00:23<00:23,  4.27it/s]"
          ]
        },
        {
          "name": "stdout",
          "output_type": "stream",
          "text": [
            " \r"
          ]
        },
        {
          "name": "stderr",
          "output_type": "stream",
          "text": [
            " 50%|████▉     | 99/200 [00:23<00:23,  4.24it/s]"
          ]
        },
        {
          "name": "stdout",
          "output_type": "stream",
          "text": [
            " \r"
          ]
        },
        {
          "name": "stderr",
          "output_type": "stream",
          "text": [
            " 50%|█████     | 100/200 [00:23<00:23,  4.23it/s]"
          ]
        },
        {
          "name": "stdout",
          "output_type": "stream",
          "text": [
            " \r"
          ]
        },
        {
          "name": "stderr",
          "output_type": "stream",
          "text": [
            " 50%|█████     | 101/200 [00:23<00:23,  4.23it/s]"
          ]
        },
        {
          "name": "stdout",
          "output_type": "stream",
          "text": [
            " \r"
          ]
        },
        {
          "name": "stderr",
          "output_type": "stream",
          "text": [
            " 51%|█████     | 102/200 [00:24<00:23,  4.20it/s]"
          ]
        },
        {
          "name": "stdout",
          "output_type": "stream",
          "text": [
            " \r"
          ]
        },
        {
          "name": "stderr",
          "output_type": "stream",
          "text": [
            " 52%|█████▏    | 103/200 [00:24<00:23,  4.20it/s]"
          ]
        },
        {
          "name": "stdout",
          "output_type": "stream",
          "text": [
            " \r"
          ]
        },
        {
          "name": "stderr",
          "output_type": "stream",
          "text": [
            " 52%|█████▏    | 104/200 [00:24<00:22,  4.21it/s]"
          ]
        },
        {
          "name": "stdout",
          "output_type": "stream",
          "text": [
            " \r"
          ]
        },
        {
          "name": "stderr",
          "output_type": "stream",
          "text": [
            " 52%|█████▎    | 105/200 [00:24<00:24,  3.92it/s]"
          ]
        },
        {
          "name": "stdout",
          "output_type": "stream",
          "text": [
            " \r"
          ]
        },
        {
          "name": "stderr",
          "output_type": "stream",
          "text": [
            " 53%|█████▎    | 106/200 [00:25<00:23,  4.05it/s]"
          ]
        },
        {
          "name": "stdout",
          "output_type": "stream",
          "text": [
            " \r"
          ]
        },
        {
          "name": "stderr",
          "output_type": "stream",
          "text": [
            " 54%|█████▎    | 107/200 [00:25<00:22,  4.11it/s]"
          ]
        },
        {
          "name": "stdout",
          "output_type": "stream",
          "text": [
            " \r"
          ]
        },
        {
          "name": "stderr",
          "output_type": "stream",
          "text": [
            " 55%|█████▍    | 109/200 [00:25<00:21,  4.21it/s]"
          ]
        },
        {
          "name": "stdout",
          "output_type": "stream",
          "text": [
            " \r"
          ]
        },
        {
          "name": "stderr",
          "output_type": "stream",
          "text": [
            " 56%|█████▌    | 112/200 [00:26<00:20,  4.22it/s]"
          ]
        },
        {
          "name": "stdout",
          "output_type": "stream",
          "text": [
            " \r"
          ]
        },
        {
          "name": "stderr",
          "output_type": "stream",
          "text": [
            " 56%|█████▋    | 113/200 [00:26<00:20,  4.21it/s]"
          ]
        },
        {
          "name": "stdout",
          "output_type": "stream",
          "text": [
            " \r"
          ]
        },
        {
          "name": "stderr",
          "output_type": "stream",
          "text": [
            " 57%|█████▊    | 115/200 [00:27<00:20,  4.20it/s]"
          ]
        },
        {
          "name": "stdout",
          "output_type": "stream",
          "text": [
            " \r"
          ]
        },
        {
          "name": "stderr",
          "output_type": "stream",
          "text": [
            " 58%|█████▊    | 117/200 [00:27<00:19,  4.22it/s]"
          ]
        },
        {
          "name": "stdout",
          "output_type": "stream",
          "text": [
            " \r"
          ]
        },
        {
          "name": "stderr",
          "output_type": "stream",
          "text": [
            " 60%|█████▉    | 119/200 [00:28<00:19,  4.23it/s]"
          ]
        },
        {
          "name": "stdout",
          "output_type": "stream",
          "text": [
            " \r"
          ]
        },
        {
          "name": "stderr",
          "output_type": "stream",
          "text": [
            " 60%|██████    | 120/200 [00:28<00:18,  4.25it/s]"
          ]
        },
        {
          "name": "stdout",
          "output_type": "stream",
          "text": [
            " \r"
          ]
        },
        {
          "name": "stderr",
          "output_type": "stream",
          "text": [
            " 60%|██████    | 121/200 [00:28<00:18,  4.19it/s]"
          ]
        },
        {
          "name": "stdout",
          "output_type": "stream",
          "text": [
            " \r"
          ]
        },
        {
          "name": "stderr",
          "output_type": "stream",
          "text": [
            " 62%|██████▏   | 123/200 [00:29<00:18,  4.25it/s]"
          ]
        },
        {
          "name": "stdout",
          "output_type": "stream",
          "text": [
            " \r"
          ]
        },
        {
          "name": "stderr",
          "output_type": "stream",
          "text": [
            " 62%|██████▎   | 125/200 [00:29<00:18,  3.98it/s]"
          ]
        },
        {
          "name": "stdout",
          "output_type": "stream",
          "text": [
            " \r"
          ]
        },
        {
          "name": "stderr",
          "output_type": "stream",
          "text": [
            " 64%|██████▎   | 127/200 [00:30<00:17,  4.15it/s]"
          ]
        },
        {
          "name": "stdout",
          "output_type": "stream",
          "text": [
            " \r"
          ]
        },
        {
          "name": "stderr",
          "output_type": "stream",
          "text": [
            " 64%|██████▍   | 128/200 [00:30<00:17,  4.17it/s]"
          ]
        },
        {
          "name": "stdout",
          "output_type": "stream",
          "text": [
            " \r"
          ]
        },
        {
          "name": "stderr",
          "output_type": "stream",
          "text": [
            " 64%|██████▍   | 129/200 [00:30<00:17,  4.13it/s]"
          ]
        },
        {
          "name": "stdout",
          "output_type": "stream",
          "text": [
            " \r"
          ]
        },
        {
          "name": "stderr",
          "output_type": "stream",
          "text": [
            " 65%|██████▌   | 130/200 [00:30<00:16,  4.20it/s]"
          ]
        },
        {
          "name": "stdout",
          "output_type": "stream",
          "text": [
            " \r"
          ]
        },
        {
          "name": "stderr",
          "output_type": "stream",
          "text": [
            " 66%|██████▌   | 131/200 [00:31<00:16,  4.17it/s]"
          ]
        },
        {
          "name": "stdout",
          "output_type": "stream",
          "text": [
            " \r"
          ]
        },
        {
          "name": "stderr",
          "output_type": "stream",
          "text": [
            " 66%|██████▌   | 132/200 [00:31<00:16,  4.17it/s]"
          ]
        },
        {
          "name": "stdout",
          "output_type": "stream",
          "text": [
            " \r"
          ]
        },
        {
          "name": "stderr",
          "output_type": "stream",
          "text": [
            " 66%|██████▋   | 133/200 [00:31<00:15,  4.21it/s]"
          ]
        },
        {
          "name": "stdout",
          "output_type": "stream",
          "text": [
            " \r"
          ]
        },
        {
          "name": "stderr",
          "output_type": "stream",
          "text": [
            " 68%|██████▊   | 135/200 [00:32<00:15,  4.21it/s]"
          ]
        },
        {
          "name": "stdout",
          "output_type": "stream",
          "text": [
            " \r"
          ]
        },
        {
          "name": "stderr",
          "output_type": "stream",
          "text": [
            " 68%|██████▊   | 137/200 [00:32<00:14,  4.28it/s]"
          ]
        },
        {
          "name": "stdout",
          "output_type": "stream",
          "text": [
            " \r"
          ]
        },
        {
          "name": "stderr",
          "output_type": "stream",
          "text": [
            " 70%|██████▉   | 139/200 [00:32<00:14,  4.31it/s]"
          ]
        },
        {
          "name": "stdout",
          "output_type": "stream",
          "text": [
            " \r"
          ]
        },
        {
          "name": "stderr",
          "output_type": "stream",
          "text": [
            " 70%|███████   | 141/200 [00:33<00:13,  4.31it/s]"
          ]
        },
        {
          "name": "stdout",
          "output_type": "stream",
          "text": [
            " \r"
          ]
        },
        {
          "name": "stderr",
          "output_type": "stream",
          "text": [
            " 71%|███████   | 142/200 [00:33<00:13,  4.30it/s]"
          ]
        },
        {
          "name": "stdout",
          "output_type": "stream",
          "text": [
            " \r"
          ]
        },
        {
          "name": "stderr",
          "output_type": "stream",
          "text": [
            " 72%|███████▏  | 143/200 [00:33<00:13,  4.27it/s]"
          ]
        },
        {
          "name": "stdout",
          "output_type": "stream",
          "text": [
            " \r"
          ]
        },
        {
          "name": "stderr",
          "output_type": "stream",
          "text": [
            " 72%|███████▏  | 144/200 [00:34<00:13,  4.01it/s]"
          ]
        },
        {
          "name": "stdout",
          "output_type": "stream",
          "text": [
            " \r"
          ]
        },
        {
          "name": "stderr",
          "output_type": "stream",
          "text": [
            " 72%|███████▎  | 145/200 [00:34<00:13,  4.05it/s]"
          ]
        },
        {
          "name": "stdout",
          "output_type": "stream",
          "text": [
            " \r"
          ]
        },
        {
          "name": "stderr",
          "output_type": "stream",
          "text": [
            " 73%|███████▎  | 146/200 [00:34<00:13,  4.09it/s]"
          ]
        },
        {
          "name": "stdout",
          "output_type": "stream",
          "text": [
            " \r"
          ]
        },
        {
          "name": "stderr",
          "output_type": "stream",
          "text": [
            " 74%|███████▎  | 147/200 [00:34<00:12,  4.14it/s]"
          ]
        },
        {
          "name": "stdout",
          "output_type": "stream",
          "text": [
            " \r"
          ]
        },
        {
          "name": "stderr",
          "output_type": "stream",
          "text": [
            " 74%|███████▍  | 148/200 [00:35<00:12,  4.17it/s]"
          ]
        },
        {
          "name": "stdout",
          "output_type": "stream",
          "text": [
            " \r"
          ]
        },
        {
          "name": "stderr",
          "output_type": "stream",
          "text": [
            " 74%|███████▍  | 149/200 [00:35<00:12,  4.17it/s]"
          ]
        },
        {
          "name": "stdout",
          "output_type": "stream",
          "text": [
            " \r"
          ]
        },
        {
          "name": "stderr",
          "output_type": "stream",
          "text": [
            " 75%|███████▌  | 150/200 [00:35<00:11,  4.19it/s]"
          ]
        },
        {
          "name": "stdout",
          "output_type": "stream",
          "text": [
            " \r"
          ]
        },
        {
          "name": "stderr",
          "output_type": "stream",
          "text": [
            " 76%|███████▌  | 151/200 [00:35<00:11,  4.19it/s]"
          ]
        },
        {
          "name": "stdout",
          "output_type": "stream",
          "text": [
            " \r"
          ]
        },
        {
          "name": "stderr",
          "output_type": "stream",
          "text": [
            " 76%|███████▌  | 152/200 [00:36<00:11,  4.15it/s]"
          ]
        },
        {
          "name": "stdout",
          "output_type": "stream",
          "text": [
            " \r"
          ]
        },
        {
          "name": "stderr",
          "output_type": "stream",
          "text": [
            " 77%|███████▋  | 154/200 [00:36<00:10,  4.24it/s]"
          ]
        },
        {
          "name": "stdout",
          "output_type": "stream",
          "text": [
            " \r"
          ]
        },
        {
          "name": "stderr",
          "output_type": "stream",
          "text": [
            " 78%|███████▊  | 156/200 [00:36<00:10,  4.28it/s]"
          ]
        },
        {
          "name": "stdout",
          "output_type": "stream",
          "text": [
            " \r"
          ]
        },
        {
          "name": "stderr",
          "output_type": "stream",
          "text": [
            " 78%|███████▊  | 157/200 [00:37<00:10,  4.22it/s]"
          ]
        },
        {
          "name": "stdout",
          "output_type": "stream",
          "text": [
            " \r"
          ]
        },
        {
          "name": "stderr",
          "output_type": "stream",
          "text": [
            " 79%|███████▉  | 158/200 [00:37<00:10,  4.08it/s]"
          ]
        },
        {
          "name": "stdout",
          "output_type": "stream",
          "text": [
            " \r"
          ]
        },
        {
          "name": "stderr",
          "output_type": "stream",
          "text": [
            " 80%|███████▉  | 159/200 [00:37<00:10,  4.09it/s]"
          ]
        },
        {
          "name": "stdout",
          "output_type": "stream",
          "text": [
            " \r"
          ]
        },
        {
          "name": "stderr",
          "output_type": "stream",
          "text": [
            " 80%|████████  | 160/200 [00:37<00:09,  4.13it/s]"
          ]
        },
        {
          "name": "stdout",
          "output_type": "stream",
          "text": [
            " \r"
          ]
        },
        {
          "name": "stderr",
          "output_type": "stream",
          "text": [
            " 80%|████████  | 161/200 [00:38<00:09,  4.24it/s]"
          ]
        },
        {
          "name": "stdout",
          "output_type": "stream",
          "text": [
            " \r"
          ]
        },
        {
          "name": "stderr",
          "output_type": "stream",
          "text": [
            " 81%|████████  | 162/200 [00:38<00:08,  4.22it/s]"
          ]
        },
        {
          "name": "stdout",
          "output_type": "stream",
          "text": [
            " \r"
          ]
        },
        {
          "name": "stderr",
          "output_type": "stream",
          "text": [
            " 82%|████████▏ | 164/200 [00:38<00:08,  4.19it/s]"
          ]
        },
        {
          "name": "stdout",
          "output_type": "stream",
          "text": [
            " \r"
          ]
        },
        {
          "name": "stderr",
          "output_type": "stream",
          "text": [
            " 83%|████████▎ | 166/200 [00:39<00:08,  4.21it/s]"
          ]
        },
        {
          "name": "stdout",
          "output_type": "stream",
          "text": [
            " \r"
          ]
        },
        {
          "name": "stderr",
          "output_type": "stream",
          "text": [
            " 84%|████████▎ | 167/200 [00:39<00:07,  4.24it/s]"
          ]
        },
        {
          "name": "stdout",
          "output_type": "stream",
          "text": [
            " \r"
          ]
        },
        {
          "name": "stderr",
          "output_type": "stream",
          "text": [
            " 84%|████████▍ | 168/200 [00:39<00:07,  4.22it/s]"
          ]
        },
        {
          "name": "stdout",
          "output_type": "stream",
          "text": [
            " \r"
          ]
        },
        {
          "name": "stderr",
          "output_type": "stream",
          "text": [
            " 84%|████████▍ | 169/200 [00:40<00:07,  4.21it/s]"
          ]
        },
        {
          "name": "stdout",
          "output_type": "stream",
          "text": [
            " \r"
          ]
        },
        {
          "name": "stderr",
          "output_type": "stream",
          "text": [
            " 85%|████████▌ | 170/200 [00:40<00:07,  4.20it/s]"
          ]
        },
        {
          "name": "stdout",
          "output_type": "stream",
          "text": [
            " \r"
          ]
        },
        {
          "name": "stderr",
          "output_type": "stream",
          "text": [
            " 86%|████████▌ | 171/200 [00:40<00:06,  4.18it/s]"
          ]
        },
        {
          "name": "stdout",
          "output_type": "stream",
          "text": [
            " \r"
          ]
        },
        {
          "name": "stderr",
          "output_type": "stream",
          "text": [
            " 86%|████████▌ | 172/200 [00:40<00:07,  3.93it/s]"
          ]
        },
        {
          "name": "stdout",
          "output_type": "stream",
          "text": [
            " \r"
          ]
        },
        {
          "name": "stderr",
          "output_type": "stream",
          "text": [
            " 87%|████████▋ | 174/200 [00:41<00:06,  4.09it/s]"
          ]
        },
        {
          "name": "stdout",
          "output_type": "stream",
          "text": [
            " \r"
          ]
        },
        {
          "name": "stderr",
          "output_type": "stream",
          "text": [
            " 88%|████████▊ | 175/200 [00:41<00:06,  4.13it/s]"
          ]
        },
        {
          "name": "stdout",
          "output_type": "stream",
          "text": [
            " \r"
          ]
        },
        {
          "name": "stderr",
          "output_type": "stream",
          "text": [
            " 88%|████████▊ | 177/200 [00:42<00:05,  4.20it/s]"
          ]
        },
        {
          "name": "stdout",
          "output_type": "stream",
          "text": [
            " \r"
          ]
        },
        {
          "name": "stderr",
          "output_type": "stream",
          "text": [
            " 90%|████████▉ | 179/200 [00:42<00:04,  4.26it/s]"
          ]
        },
        {
          "name": "stdout",
          "output_type": "stream",
          "text": [
            " \r"
          ]
        },
        {
          "name": "stderr",
          "output_type": "stream",
          "text": [
            " 90%|█████████ | 181/200 [00:42<00:04,  4.31it/s]"
          ]
        },
        {
          "name": "stdout",
          "output_type": "stream",
          "text": [
            " \r"
          ]
        },
        {
          "name": "stderr",
          "output_type": "stream",
          "text": [
            " 91%|█████████ | 182/200 [00:43<00:04,  4.31it/s]"
          ]
        },
        {
          "name": "stdout",
          "output_type": "stream",
          "text": [
            " \r"
          ]
        },
        {
          "name": "stderr",
          "output_type": "stream",
          "text": [
            " 92%|█████████▏| 184/200 [00:43<00:03,  4.29it/s]"
          ]
        },
        {
          "name": "stdout",
          "output_type": "stream",
          "text": [
            " \r"
          ]
        },
        {
          "name": "stderr",
          "output_type": "stream",
          "text": [
            " 92%|█████████▎| 185/200 [00:43<00:03,  4.27it/s]"
          ]
        },
        {
          "name": "stdout",
          "output_type": "stream",
          "text": [
            " \r"
          ]
        },
        {
          "name": "stderr",
          "output_type": "stream",
          "text": [
            " 93%|█████████▎| 186/200 [00:44<00:03,  4.25it/s]"
          ]
        },
        {
          "name": "stdout",
          "output_type": "stream",
          "text": [
            " \r"
          ]
        },
        {
          "name": "stderr",
          "output_type": "stream",
          "text": [
            " 94%|█████████▍| 188/200 [00:44<00:02,  4.28it/s]"
          ]
        },
        {
          "name": "stdout",
          "output_type": "stream",
          "text": [
            " \r"
          ]
        },
        {
          "name": "stderr",
          "output_type": "stream",
          "text": [
            " 94%|█████████▍| 189/200 [00:44<00:02,  4.30it/s]"
          ]
        },
        {
          "name": "stdout",
          "output_type": "stream",
          "text": [
            " \r"
          ]
        },
        {
          "name": "stderr",
          "output_type": "stream",
          "text": [
            " 95%|█████████▌| 190/200 [00:45<00:02,  3.95it/s]"
          ]
        },
        {
          "name": "stdout",
          "output_type": "stream",
          "text": [
            " \r"
          ]
        },
        {
          "name": "stderr",
          "output_type": "stream",
          "text": [
            " 96%|█████████▌| 191/200 [00:45<00:02,  3.99it/s]"
          ]
        },
        {
          "name": "stdout",
          "output_type": "stream",
          "text": [
            " \r"
          ]
        },
        {
          "name": "stderr",
          "output_type": "stream",
          "text": [
            " 96%|█████████▌| 192/200 [00:45<00:02,  3.88it/s]"
          ]
        },
        {
          "name": "stdout",
          "output_type": "stream",
          "text": [
            " \r"
          ]
        },
        {
          "name": "stderr",
          "output_type": "stream",
          "text": [
            " 97%|█████████▋| 194/200 [00:46<00:01,  4.08it/s]"
          ]
        },
        {
          "name": "stdout",
          "output_type": "stream",
          "text": [
            " \r"
          ]
        },
        {
          "name": "stderr",
          "output_type": "stream",
          "text": [
            " 98%|█████████▊| 196/200 [00:46<00:00,  4.13it/s]"
          ]
        },
        {
          "name": "stdout",
          "output_type": "stream",
          "text": [
            " \r"
          ]
        },
        {
          "name": "stderr",
          "output_type": "stream",
          "text": [
            " 98%|█████████▊| 197/200 [00:46<00:00,  4.19it/s]"
          ]
        },
        {
          "name": "stdout",
          "output_type": "stream",
          "text": [
            " \r"
          ]
        },
        {
          "name": "stderr",
          "output_type": "stream",
          "text": [
            " 99%|█████████▉| 198/200 [00:47<00:00,  4.18it/s]"
          ]
        },
        {
          "name": "stdout",
          "output_type": "stream",
          "text": [
            " \r"
          ]
        },
        {
          "name": "stderr",
          "output_type": "stream",
          "text": [
            "100%|██████████| 200/200 [00:47<00:00,  4.21it/s]"
          ]
        },
        {
          "name": "stdout",
          "output_type": "stream",
          "text": [
            " \r"
          ]
        },
        {
          "name": "stderr",
          "output_type": "stream",
          "text": [
            "\n"
          ]
        }
      ],
      "source": [
        "def algoritmo_genetico(tamano_poblacion: int, epocas: int):\n",
        "    '''\n",
        "    Función de optimización basada en algoritmos genéticos\n",
        "\n",
        "    tamano_poblacion -> número de propuestas de cada generación\n",
        "    epocas -> número de generaciones\n",
        "    '''\n",
        "    resultados = []\n",
        "    for individuo in generar_propuestas(tamano_poblacion):\n",
        "        resultados.append([evaluation(individuo)[0], individuo])\n",
        "\n",
        "    resultados.sort(reverse=True)\n",
        "\n",
        "    resultado_total = []\n",
        "    resultado_total.append(resultados[0] + [0])\n",
        "\n",
        "    for i in tqdm(range(epocas)):\n",
        "        padres_seleccionados = seleccion_padres(resultados)\n",
        "        combinacion_padres = combination(padres_seleccionados)\n",
        "        poblacion_mutada = mutation(combinacion_padres)\n",
        "        resultados = []\n",
        "        for individuo in poblacion_mutada:\n",
        "            resultados.append([evaluation(individuo)[0], individuo])\n",
        "        resultados.sort(reverse=True)\n",
        "        resultado_total.append(resultados[0] + [i + 1])\n",
        "        # Barra de progreso\n",
        "        print(\" \", end='\\r')\n",
        "\n",
        "    return resultado_total\n",
        "final = algoritmo_gene(200, 200) #Ryzen 5 2600, 47 segundos"
      ]
    },
    {
      "cell_type": "code",
      "execution_count": 202,
      "metadata": {},
      "outputs": [
        {
          "data": {
            "image/png": "[encoded data removed]",
            "text/plain": [
              "<Figure size 640x480 with 1 Axes>"
            ]
          },
          "metadata": {},
          "output_type": "display_data"
        }
      ],
      "source": [
        "datos = [final[i][0] for i in range(len(final))]\n",
        "\n",
        "import matplotlib.pyplot as plt\n",
        "\n",
        "plt.plot(datos)\n",
        "plt.xlabel('Nº de Generaciones')\n",
        "plt.ylabel('Aficionados (millones)')\n",
        "plt.title('Mejor audiencia en jornada')\n",
        "plt.show()\n"
      ]
    },
    {
      "cell_type": "code",
      "execution_count": 201,
      "metadata": {},
      "outputs": [
        {
          "name": "stdout",
          "output_type": "stream",
          "text": [
            "Para la mejor jornada, tenemos los siguientes horarios: ['S20', 'D18', 'L20', 'D20', 'V20', 'S16', 'S18', 'S12', 'D12', 'D16']\n",
            "La audiencia estimada es: 6.8335 millones de espectadores.\n"
          ]
        },
        {
          "data": {
            "text/html": [
              "<div>\n",
              "<style scoped>\n",
              "    .dataframe tbody tr th:only-of-type {\n",
              "        vertical-align: middle;\n",
              "    }\n",
              "\n",
              "    .dataframe tbody tr th {\n",
              "        vertical-align: top;\n",
              "    }\n",
              "\n",
              "    .dataframe thead th {\n",
              "        text-align: right;\n",
              "    }\n",
              "</style>\n",
              "<table border=\"1\" class=\"dataframe\">\n",
              "  <thead>\n",
              "    <tr style=\"text-align: right;\">\n",
              "      <th></th>\n",
              "      <th>Partido</th>\n",
              "      <th>Categoría</th>\n",
              "      <th>Asistencia</th>\n",
              "      <th>Horario</th>\n",
              "      <th>Factor horario</th>\n",
              "      <th>Coincidencia</th>\n",
              "      <th>Factor coincidencia</th>\n",
              "      <th>Audiencia</th>\n",
              "    </tr>\n",
              "  </thead>\n",
              "  <tbody>\n",
              "    <tr>\n",
              "      <th>0</th>\n",
              "      <td>Celta-RMadrid</td>\n",
              "      <td>BA</td>\n",
              "      <td>1.30</td>\n",
              "      <td>S20</td>\n",
              "      <td>1.00</td>\n",
              "      <td>0</td>\n",
              "      <td>1</td>\n",
              "      <td>1.3000</td>\n",
              "    </tr>\n",
              "    <tr>\n",
              "      <th>1</th>\n",
              "      <td>Valencia-RSociedad</td>\n",
              "      <td>BA</td>\n",
              "      <td>1.30</td>\n",
              "      <td>D18</td>\n",
              "      <td>0.85</td>\n",
              "      <td>0</td>\n",
              "      <td>1</td>\n",
              "      <td>1.1050</td>\n",
              "    </tr>\n",
              "    <tr>\n",
              "      <th>2</th>\n",
              "      <td>Mallorca-Eibar</td>\n",
              "      <td>CC</td>\n",
              "      <td>0.47</td>\n",
              "      <td>L20</td>\n",
              "      <td>0.40</td>\n",
              "      <td>0</td>\n",
              "      <td>1</td>\n",
              "      <td>0.1880</td>\n",
              "    </tr>\n",
              "    <tr>\n",
              "      <th>3</th>\n",
              "      <td>Athletic-Barcelona</td>\n",
              "      <td>BA</td>\n",
              "      <td>1.30</td>\n",
              "      <td>D20</td>\n",
              "      <td>1.00</td>\n",
              "      <td>0</td>\n",
              "      <td>1</td>\n",
              "      <td>1.3000</td>\n",
              "    </tr>\n",
              "    <tr>\n",
              "      <th>4</th>\n",
              "      <td>Leganés-Osasuna</td>\n",
              "      <td>CC</td>\n",
              "      <td>0.47</td>\n",
              "      <td>V20</td>\n",
              "      <td>0.40</td>\n",
              "      <td>0</td>\n",
              "      <td>1</td>\n",
              "      <td>0.1880</td>\n",
              "    </tr>\n",
              "    <tr>\n",
              "      <th>5</th>\n",
              "      <td>Villareal-Granada</td>\n",
              "      <td>BC</td>\n",
              "      <td>0.75</td>\n",
              "      <td>S16</td>\n",
              "      <td>0.70</td>\n",
              "      <td>0</td>\n",
              "      <td>1</td>\n",
              "      <td>0.5250</td>\n",
              "    </tr>\n",
              "    <tr>\n",
              "      <th>6</th>\n",
              "      <td>Alaves-Levante</td>\n",
              "      <td>BB</td>\n",
              "      <td>0.90</td>\n",
              "      <td>S18</td>\n",
              "      <td>0.80</td>\n",
              "      <td>0</td>\n",
              "      <td>1</td>\n",
              "      <td>0.7200</td>\n",
              "    </tr>\n",
              "    <tr>\n",
              "      <th>7</th>\n",
              "      <td>Espanyol-Sevilla</td>\n",
              "      <td>BB</td>\n",
              "      <td>0.90</td>\n",
              "      <td>S12</td>\n",
              "      <td>0.55</td>\n",
              "      <td>0</td>\n",
              "      <td>1</td>\n",
              "      <td>0.4950</td>\n",
              "    </tr>\n",
              "    <tr>\n",
              "      <th>8</th>\n",
              "      <td>Betis-Valladolid</td>\n",
              "      <td>BC</td>\n",
              "      <td>0.75</td>\n",
              "      <td>D12</td>\n",
              "      <td>0.45</td>\n",
              "      <td>0</td>\n",
              "      <td>1</td>\n",
              "      <td>0.3375</td>\n",
              "    </tr>\n",
              "    <tr>\n",
              "      <th>9</th>\n",
              "      <td>Atlético-Getafe</td>\n",
              "      <td>BB</td>\n",
              "      <td>0.90</td>\n",
              "      <td>D16</td>\n",
              "      <td>0.75</td>\n",
              "      <td>0</td>\n",
              "      <td>1</td>\n",
              "      <td>0.6750</td>\n",
              "    </tr>\n",
              "  </tbody>\n",
              "</table>\n",
              "</div>"
            ],
            "text/plain": [
              "              Partido Categoría  Asistencia Horario  Factor horario  \\\n",
              "0       Celta-RMadrid        BA        1.30     S20            1.00   \n",
              "1  Valencia-RSociedad        BA        1.30     D18            0.85   \n",
              "2      Mallorca-Eibar        CC        0.47     L20            0.40   \n",
              "3  Athletic-Barcelona        BA        1.30     D20            1.00   \n",
              "4     Leganés-Osasuna        CC        0.47     V20            0.40   \n",
              "5   Villareal-Granada        BC        0.75     S16            0.70   \n",
              "6      Alaves-Levante        BB        0.90     S18            0.80   \n",
              "7    Espanyol-Sevilla        BB        0.90     S12            0.55   \n",
              "8    Betis-Valladolid        BC        0.75     D12            0.45   \n",
              "9     Atlético-Getafe        BB        0.90     D16            0.75   \n",
              "\n",
              "   Coincidencia  Factor coincidencia  Audiencia  \n",
              "0             0                    1     1.3000  \n",
              "1             0                    1     1.1050  \n",
              "2             0                    1     0.1880  \n",
              "3             0                    1     1.3000  \n",
              "4             0                    1     0.1880  \n",
              "5             0                    1     0.5250  \n",
              "6             0                    1     0.7200  \n",
              "7             0                    1     0.4950  \n",
              "8             0                    1     0.3375  \n",
              "9             0                    1     0.6750  "
            ]
          },
          "metadata": {},
          "output_type": "display_data"
        }
      ],
      "source": [
        "print(f'Para la mejor jornada, tenemos los siguientes horarios: {final[-1][1]}')\n",
        "print(f'La audiencia estimada es: {max(datos)} millones de espectadores.')\n",
        "display(evaluation(final[-1][1])[1])"
      ]
    }
  ],
  "metadata": {
    "colab": {
      "provenance": []
    },
    "kernelspec": {
      "display_name": "Python 3",
      "name": "python3"
    },
    "language_info": {
      "codemirror_mode": {
        "name": "ipython",
        "version": 3
      },
      "file_extension": ".py",
      "mimetype": "text/x-python",
      "name": "python",
      "nbconvert_exporter": "python",
      "pygments_lexer": "ipython3",
      "version": "3.12.0"
    }
  },
  "nbformat": 4,
  "nbformat_minor": 0
}
